{
 "cells": [
  {
   "cell_type": "code",
   "execution_count": 19,
   "metadata": {},
   "outputs": [
    {
     "name": "stdout",
     "output_type": "stream",
     "text": [
      "Populating the interactive namespace from numpy and matplotlib\n"
     ]
    }
   ],
   "source": [
    "import os\n",
    "import sys\n",
    "from tqdm import tqdm\n",
    "\n",
    "import matplotlib.pyplot as plt\n",
    "import seaborn as sns\n",
    "%pylab inline\n",
    "\n",
    "from sklearn.neighbors import KNeighborsClassifier\n",
    "from sklearn.model_selection import StratifiedKFold\n",
    "from scipy.stats import ks_2samp"
   ]
  },
  {
   "cell_type": "code",
   "execution_count": 145,
   "metadata": {},
   "outputs": [],
   "source": [
    "random_seed = 61194\n",
    "\n",
    "kfold = StratifiedKFold(n_splits=3, shuffle=True, random_state=random_seed)\n",
    "\n",
    "cancer_dir = 'stat_dataset_cancer/values'\n",
    "fibro_dir = 'stat_dataset_fibro/values'\n",
    "\n",
    "cancer_ids = sorted(os.listdir(cancer_dir))\n",
    "fibro_ids = sorted(os.listdir(fibro_dir))\n",
    "\n",
    "cancer_list = np.array([os.path.join(cancer_dir, x) for x in cancer_ids])\n",
    "fibro_list = np.array([os.path.join(fibro_dir, x) for x in fibro_ids])\n",
    "\n",
    "X = np.concatenate((cancer_list, fibro_list), axis=0)\n",
    "y = np.concatenate((np.zeros(cancer_list.shape[0]), np.ones(fibro_list.shape[0])), axis=0)\n"
   ]
  },
  {
   "cell_type": "code",
   "execution_count": 146,
   "metadata": {},
   "outputs": [
    {
     "name": "stdout",
     "output_type": "stream",
     "text": [
      "1\n",
      "16 / 23\n",
      "8 / 11\n",
      "2\n",
      "17 / 23\n",
      "9 / 11\n",
      "3\n",
      "14 / 22\n",
      "9 / 11\n"
     ]
    }
   ],
   "source": [
    "kit = 0\n",
    "for train_index, test_index in kfold.split(X, y):\n",
    "    kit += 1    \n",
    "        \n",
    "    X_train, y_train = X[train_index], y[train_index]    \n",
    "    X_test, y_test = X[test_index], y[test_index]\n",
    "    \n",
    "    train_canpaths = X_train[y_train == 0]\n",
    "    train_fibpaths = X_train[y_train == 1]\n",
    "    \n",
    "    train_canvals = []\n",
    "    for fc in train_canpaths:\n",
    "        with open(fc) as o:\n",
    "            a = [float(x.split(',')[0]) for x in o.read().split()]\n",
    "        train_canvals = train_canvals + a\n",
    "    train_canvals = np.array(train_canvals)\n",
    "        \n",
    "    train_fibvals = []\n",
    "    for ff in train_fibpaths:\n",
    "        with open(ff) as o:\n",
    "            a = [float(x.split(',')[0]) for x in o.read().split()]\n",
    "        train_fibvals = train_fibvals + a\n",
    "    train_fibvals = np.array(train_fibvals)\n",
    "    \n",
    "    y_pred = np.zeros(X_test.shape[0])\n",
    "    for i in range(X_test.shape[0]):\n",
    "        with open(X_test[i]) as o:\n",
    "            a = [float(x.split(',')[0]) for x in o.read().split()]\n",
    "        vals = np.array(a)\n",
    "        \n",
    "        ks_can = ks_2samp(train_canvals, vals)\n",
    "        ks_fib = ks_2samp(train_fibvals, vals)\n",
    "        \n",
    "        d_can, p_can = ks_can[0], ks_can[1]\n",
    "        d_fib, p_fib = ks_fib[0], ks_fib[1]\n",
    "        if abs(p_can - p_fib) < 0.01:\n",
    "            if d_can < d_fib:\n",
    "                answer = 0\n",
    "            else:\n",
    "                answer = 1\n",
    "        else:\n",
    "            if p_can > p_fib:\n",
    "                answer = 0\n",
    "            else:\n",
    "                answer = 1\n",
    "                \n",
    "        y_pred[i] = answer\n",
    "    \n",
    "    print(kit)\n",
    "    \n",
    "    can = y_pred[y_test == 0]\n",
    "    print(int(can.shape[0] - np.sum(can)), '/', can.shape[0])\n",
    "\n",
    "    fib = y_pred[y_test == 1]\n",
    "    print(int(np.sum(fib)), '/', fib.shape[0])"
   ]
  },
  {
   "cell_type": "code",
   "execution_count": 174,
   "metadata": {},
   "outputs": [],
   "source": [
    "def grand_cross(random_seed=61194):    \n",
    "\n",
    "    kfold = StratifiedKFold(n_splits=2, shuffle=True, random_state=random_seed)\n",
    "\n",
    "    cancer_dir = 'stat_dataset_cancer/values'\n",
    "    fibro_dir = 'stat_dataset_fibro/values'\n",
    "\n",
    "    cancer_ids = sorted(os.listdir(cancer_dir))\n",
    "    fibro_ids = sorted(os.listdir(fibro_dir))\n",
    "\n",
    "    cancer_list = np.array([os.path.join(cancer_dir, x) for x in cancer_ids])\n",
    "    fibro_list = np.array([os.path.join(fibro_dir, x) for x in fibro_ids])\n",
    "\n",
    "    X = np.concatenate((cancer_list, fibro_list), axis=0)\n",
    "    y = np.concatenate((np.zeros(cancer_list.shape[0]), np.ones(fibro_list.shape[0])), axis=0)\n",
    "\n",
    "    \n",
    "    sensitivity = []\n",
    "    specificity = []\n",
    "    accuracy = []\n",
    "    for train_index, test_index in kfold.split(X, y):    \n",
    "        \n",
    "        X_train, y_train = X[train_index], y[train_index]    \n",
    "        X_test, y_test = X[test_index], y[test_index]\n",
    "    \n",
    "        train_canpaths = X_train[y_train == 0]\n",
    "        train_fibpaths = X_train[y_train == 1]\n",
    "    \n",
    "        train_canvals = []\n",
    "        for fc in train_canpaths:\n",
    "            with open(fc) as o:\n",
    "                a = [float(x.split(',')[0]) for x in o.read().split()]\n",
    "            train_canvals = train_canvals + a\n",
    "        train_canvals = np.array(train_canvals)\n",
    "        \n",
    "        train_fibvals = []\n",
    "        for ff in train_fibpaths:\n",
    "            with open(ff) as o:\n",
    "                a = [float(x.split(',')[0]) for x in o.read().split()]\n",
    "            train_fibvals = train_fibvals + a\n",
    "        train_fibvals = np.array(train_fibvals)\n",
    "        \n",
    "        y_pred = np.zeros(X_test.shape[0])\n",
    "        for i in range(X_test.shape[0]):\n",
    "            with open(X_test[i]) as o:\n",
    "                a = [float(x.split(',')[0]) for x in o.read().split()]\n",
    "            vals = np.array(a)\n",
    "            \n",
    "            ks_can = ks_2samp(train_canvals, vals)\n",
    "            ks_fib = ks_2samp(train_fibvals, vals)\n",
    "        \n",
    "            d_can, p_can = ks_can[0], ks_can[1]\n",
    "            d_fib, p_fib = ks_fib[0], ks_fib[1]\n",
    "            if abs(p_can - p_fib) < 0.01:\n",
    "                if d_can < d_fib:\n",
    "                    answer = 0\n",
    "                else:\n",
    "                    answer = 1\n",
    "            else:\n",
    "                if p_can > p_fib:\n",
    "                    answer = 0\n",
    "                else:\n",
    "                    answer = 1\n",
    "                \n",
    "            y_pred[i] = answer\n",
    "            \n",
    "        can = y_pred[y_test == 0]\n",
    "        sensitivity.append((can.shape[0] - np.sum(can)) / can.shape[0])\n",
    "    \n",
    "        fib = y_pred[y_test == 1]\n",
    "        specificity.append((np.sum(fib)) / fib.shape[0])\n",
    "        \n",
    "        accuracy.append((can.shape[0] - np.sum(can) + np.sum(fib)) / (can.shape[0] + fib.shape[0]))\n",
    "    \n",
    "    sensitivity = np.array(sensitivity)\n",
    "    specificity = np.array(specificity)\n",
    "    accuracy = np.array(accuracy\n",
    "                       )\n",
    "    return sensitivity, specificity, accuracy"
   ]
  },
  {
   "cell_type": "code",
   "execution_count": 176,
   "metadata": {},
   "outputs": [
    {
     "name": "stdout",
     "output_type": "stream",
     "text": [
      "[ 0.70588235  0.70588235] [ 0.70588235  0.875     ] [ 0.70588235  0.76      ]\n",
      "[ 0.61764706  0.82352941] [ 0.76470588  0.8125    ] [ 0.66666667  0.82      ]\n",
      "0.713235294118 0.789522058824 0.738137254902\n"
     ]
    }
   ],
   "source": [
    "seed_list = [61194, 190396]\n",
    "#seed_list = range(61194 - 2, 61194 + 2)\n",
    "\n",
    "sensitivity = np.array([])\n",
    "specificity = np.array([])\n",
    "accuracy = np.array([])\n",
    "\n",
    "for seed in seed_list:\n",
    "    sens, spec, accu = grand_cross(seed)\n",
    "    print(sens, spec, accu)\n",
    "    \n",
    "    sensitivity = np.concatenate((sensitivity, sens), axis=0)\n",
    "    specificity = np.concatenate((specificity, spec), axis=0)\n",
    "    accuracy = np.concatenate((accuracy, accu), axis=0)\n",
    "    \n",
    "print(np.mean(sensitivity), np.mean(specificity), np.mean(accuracy))"
   ]
  },
  {
   "cell_type": "code",
   "execution_count": 172,
   "metadata": {},
   "outputs": [
    {
     "data": {
      "text/plain": [
       "<matplotlib.axes._subplots.AxesSubplot at 0x7f9e1b41b358>"
      ]
     },
     "execution_count": 172,
     "metadata": {},
     "output_type": "execute_result"
    },
    {
     "data": {
      "text/plain": [
       "<matplotlib.figure.Figure at 0x7f9e1b05ac18>"
      ]
     },
     "metadata": {},
     "output_type": "display_data"
    },
    {
     "data": {
      "image/png": "[encoded data removed]",
      "text/plain": [
       "<matplotlib.figure.Figure at 0x7f9e1b05ada0>"
      ]
     },
     "metadata": {},
     "output_type": "display_data"
    },
    {
     "data": {
      "image/png": "[encoded data removed]",
      "text/plain": [
       "<matplotlib.figure.Figure at 0x7f9e1b502d68>"
      ]
     },
     "metadata": {},
     "output_type": "display_data"
    },
    {
     "data": {
      "image/png": "[encoded data removed]",
      "text/plain": [
       "<matplotlib.figure.Figure at 0x7f9e179d5940>"
      ]
     },
     "metadata": {},
     "output_type": "display_data"
    }
   ],
   "source": [
    "figure(figsize=(8, 6))\n",
    "\n",
    "fig1 = plt.figure()\n",
    "sns.distplot(sensitivity, rug=True, kde=True)\n",
    "\n",
    "fig2 = plt.figure()\n",
    "sns.distplot(specificity, rug=True, kde=True)\n",
    "\n",
    "fig3 = plt.figure()\n",
    "sns.distplot(accuracy, rug=True, kde=True)"
   ]
  },
  {
   "cell_type": "code",
   "execution_count": null,
   "metadata": {
    "collapsed": true
   },
   "outputs": [],
   "source": []
  }
 ],
 "metadata": {
  "kernelspec": {
   "display_name": "Python 3",
   "language": "python",
   "name": "python3"
  },
  "language_info": {
   "codemirror_mode": {
    "name": "ipython",
    "version": 3
   },
   "file_extension": ".py",
   "mimetype": "text/x-python",
   "name": "python",
   "nbconvert_exporter": "python",
   "pygments_lexer": "ipython3",
   "version": "3.5.3"
  }
 },
 "nbformat": 4,
 "nbformat_minor": 2
}

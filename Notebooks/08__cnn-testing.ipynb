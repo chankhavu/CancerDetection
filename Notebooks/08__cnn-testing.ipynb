{
 "cells": [
  {
   "cell_type": "code",
   "execution_count": 1,
   "metadata": {},
   "outputs": [
    {
     "name": "stderr",
     "output_type": "stream",
     "text": [
      "Using TensorFlow backend.\n"
     ]
    },
    {
     "name": "stdout",
     "output_type": "stream",
     "text": [
      "Keras backend: tensorflow\n",
      "Keras image format: channels_last \n",
      "\n"
     ]
    }
   ],
   "source": [
    "import os\n",
    "import re\n",
    "import cv2\n",
    "import numpy as np\n",
    "from keras import backend as KBackend\n",
    "from keras.models import load_model\n",
    "from keras.preprocessing.image import ImageDataGenerator\n",
    "\n",
    "print('Keras backend:', KBackend.backend())\n",
    "print('Keras image format:', KBackend.image_data_format(), '\\n')"
   ]
  },
  {
   "cell_type": "code",
   "execution_count": 2,
   "metadata": {},
   "outputs": [
    {
     "name": "stdout",
     "output_type": "stream",
     "text": [
      "_________________________________________________________________\n",
      "Layer (type)                 Output Shape              Param #   \n",
      "=================================================================\n",
      "conv2d_268 (Conv2D)          (None, 158, 158, 32)      896       \n",
      "_________________________________________________________________\n",
      "activation_376 (Activation)  (None, 158, 158, 32)      0         \n",
      "_________________________________________________________________\n",
      "max_pooling2d_143 (MaxPoolin (None, 79, 79, 32)        0         \n",
      "_________________________________________________________________\n",
      "conv2d_269 (Conv2D)          (None, 77, 77, 32)        9248      \n",
      "_________________________________________________________________\n",
      "activation_377 (Activation)  (None, 77, 77, 32)        0         \n",
      "_________________________________________________________________\n",
      "max_pooling2d_144 (MaxPoolin (None, 38, 38, 32)        0         \n",
      "_________________________________________________________________\n",
      "conv2d_270 (Conv2D)          (None, 36, 36, 64)        18496     \n",
      "_________________________________________________________________\n",
      "activation_378 (Activation)  (None, 36, 36, 64)        0         \n",
      "_________________________________________________________________\n",
      "max_pooling2d_145 (MaxPoolin (None, 18, 18, 64)        0         \n",
      "_________________________________________________________________\n",
      "flatten_37 (Flatten)         (None, 20736)             0         \n",
      "_________________________________________________________________\n",
      "dense_109 (Dense)            (None, 32)                663584    \n",
      "_________________________________________________________________\n",
      "activation_379 (Activation)  (None, 32)                0         \n",
      "_________________________________________________________________\n",
      "dropout_73 (Dropout)         (None, 32)                0         \n",
      "_________________________________________________________________\n",
      "dense_110 (Dense)            (None, 32)                1056      \n",
      "_________________________________________________________________\n",
      "activation_380 (Activation)  (None, 32)                0         \n",
      "_________________________________________________________________\n",
      "dropout_74 (Dropout)         (None, 32)                0         \n",
      "_________________________________________________________________\n",
      "dense_111 (Dense)            (None, 1)                 33        \n",
      "_________________________________________________________________\n",
      "activation_381 (Activation)  (None, 1)                 0         \n",
      "=================================================================\n",
      "Total params: 693,313\n",
      "Trainable params: 693,313\n",
      "Non-trainable params: 0\n",
      "_________________________________________________________________\n",
      "Found 758 images belonging to 2 classes.\n"
     ]
    }
   ],
   "source": [
    "model = load_model('log_cnn/rgb-32C3-32C3-64C5-F32-F321_E69_L0.64_A0.66.hdf5')\n",
    "model.summary()\n",
    "\n",
    "test_data_generator = ImageDataGenerator()\n",
    "test_generator = test_data_generator.flow_from_directory(\n",
    "            os.path.join(os.getcwd(), 'test'),\n",
    "            target_size=(160, 160),\n",
    "            classes=['cancer', 'fibro'],\n",
    "            class_mode='binary',\n",
    "            color_mode='rgb',            \n",
    "            batch_size=1)"
   ]
  },
  {
   "cell_type": "code",
   "execution_count": 3,
   "metadata": {},
   "outputs": [
    {
     "data": {
      "text/plain": [
       "[0.66577800467814519, 0.62928759894459108]"
      ]
     },
     "execution_count": 3,
     "metadata": {},
     "output_type": "execute_result"
    }
   ],
   "source": [
    "model.evaluate_generator(generator=test_generator, steps=758)"
   ]
  },
  {
   "cell_type": "code",
   "execution_count": 4,
   "metadata": {
    "collapsed": true
   },
   "outputs": [],
   "source": [
    "scalar_out = _"
   ]
  },
  {
   "cell_type": "code",
   "execution_count": 5,
   "metadata": {},
   "outputs": [
    {
     "name": "stdout",
     "output_type": "stream",
     "text": [
      "[0.66577800467814519, 0.62928759894459108]\n",
      "['loss', 'acc']\n"
     ]
    }
   ],
   "source": [
    "print(scalar_out)\n",
    "print(model.metrics_names)"
   ]
  },
  {
   "cell_type": "code",
   "execution_count": 54,
   "metadata": {},
   "outputs": [
    {
     "name": "stdout",
     "output_type": "stream",
     "text": [
      "['510_4_1.png', '510_2_1.png', '510_17_4.png', '510_5_4.png', '510_12_2.png', '510_9_3.png', '510_11_1.png', '510_3_1.png', '510_15_1.png', '510_1_6.png', '510_2_4.png', '510_13_1.png', '510_14_3.png', '510_12_1.png', '510_11_4.png', '510_11_2.png', '510_5_2.png', '510_8_1.png', '510_13_2.png', '510_4_2.png', '510_7_1.png', '510_3_2.png', '510_9_1.png', '510_17_2.png', '510_8_2.png', '510_16_1.png', '510_6_4.png', '510_10_2.png', '510_6_3.png', '510_2_2.png', '510_7_5.png', '510_1_3.png', '510_15_2.png', '510_17_3.png', '510_17_1.png', '510_14_1.png', '510_1_1.png', '510_8_3.png', '510_15_3.png', '510_2_6.png', '510_11_5.png', '510_17_5.png', '510_14_2.png', '510_13_4.png', '510_16_2.png', '510_10_3.png', '510_6_2.png', '510_10_4.png', '510_7_4.png', '510_10_1.png', '510_6_1.png', '510_1_4.png', '510_1_2.png', '510_12_3.png', '510_11_3.png', '510_1_7.png', '510_9_2.png', '510_1_5.png', '510_16_3.png', '510_16_4.png', '510_5_3.png', '510_5_1.png', '510_2_3.png', '510_13_3.png', '510_7_3.png', '510_7_2.png', '510_2_5.png']\n"
     ]
    }
   ],
   "source": [
    "class_name = 'fibro'\n",
    "patient_num = '510'\n",
    "l = os.listdir(os.path.join('dataset', class_name))\n",
    "f = [x for x in l if re.match(r'510.*\\.png', x)]\n",
    "print(f)"
   ]
  },
  {
   "cell_type": "code",
   "execution_count": 16,
   "metadata": {},
   "outputs": [
    {
     "name": "stdout",
     "output_type": "stream",
     "text": [
      "Found 349 images belonging to 1 classes.\n"
     ]
    }
   ],
   "source": [
    "patient_generator = test_data_generator.flow_from_directory(\n",
    "            os.path.join(os.getcwd(), 'successful/test'),\n",
    "            target_size=(160, 160),            \n",
    "            color_mode='rgb',\n",
    "            classes=['fibro'],\n",
    "            batch_size=1,\n",
    "            shuffle=False)\n",
    "prediction = model.predict_generator(generator=patient_generator, steps=len(os.listdir('test/fibro')))"
   ]
  },
  {
   "cell_type": "code",
   "execution_count": 17,
   "metadata": {},
   "outputs": [
    {
     "name": "stdout",
     "output_type": "stream",
     "text": [
      "total fam_new: (349, 1) can: 114 fib: 235\n"
     ]
    }
   ],
   "source": [
    "can = np.zeros(prediction.shape)\n",
    "fib = np.zeros(prediction.shape)\n",
    "can[prediction <= 0.5] = 1\n",
    "fib[prediction > 0.5] = 1\n",
    "\n",
    "print('total fam_new:', prediction.shape, 'can:', np.count_nonzero(can), 'fib:', np.count_nonzero(fib))"
   ]
  },
  {
   "cell_type": "code",
   "execution_count": 145,
   "metadata": {},
   "outputs": [
    {
     "name": "stdout",
     "output_type": "stream",
     "text": [
      "rgb-32C3-32C3-64C5-F32-F321_E69_L0.64_A0.66.hdf5\n",
      "[train] total can: (1632, 1) can: 916 fib: 716\n",
      "[train] total fib: (1392, 1) can: 494 fib: 898\n",
      "[test] total can: (400, 1) can: 236 fib: 164\n",
      "[test] total fib: (336, 1) can: 109 fib: 227\n"
     ]
    }
   ],
   "source": [
    "print('rgb-32C3-32C3-64C5-F32-F321_E69_L0.64_A0.66.hdf5')\n",
    "print('[train] total can: (1632, 1) can: 916 fib: 716')\n",
    "print('[train] total fib: (1392, 1) can: 494 fib: 898')\n",
    "print('[test] total can: (400, 1) can: 236 fib: 164')\n",
    "print('[test] total fib: (336, 1) can: 109 fib: 227')"
   ]
  },
  {
   "cell_type": "code",
   "execution_count": 111,
   "metadata": {},
   "outputs": [
    {
     "name": "stdout",
     "output_type": "stream",
     "text": [
      "rgb-32C3-32C3-64C5-F32-F321_E75_L0.68_A0.68.hdf5\n",
      "[train] total can: (1632, 1) can: 1505 fib: 127\n",
      "[train] total fib: (1392, 1) can: 892 fib: 500\n",
      "[test] total can: (400, 1) can: 372 fib: 28\n",
      "[test] total fib: (336, 1) can: 214 fib: 122\n",
      "\n"
     ]
    }
   ],
   "source": [
    "print('rgb-32C3-32C3-64C5-F32-F321_E75_L0.68_A0.68.hdf5')\n",
    "print('[train] total can: (1632, 1) can: 1505 fib: 127')\n",
    "print('[train] total fib: (1392, 1) can: 892 fib: 500')\n",
    "print('[test] total can: (400, 1) can: 372 fib: 28')\n",
    "print('[test] total fib: (336, 1) can: 214 fib: 122')\n",
    "print()"
   ]
  },
  {
   "cell_type": "code",
   "execution_count": 255,
   "metadata": {
    "collapsed": true
   },
   "outputs": [],
   "source": [
    "import shutil\n",
    "\n",
    "class_name = 'cancer'\n",
    "category = 'test'\n",
    "target_dir = 'tmp_' + category + '_' + class_name\n",
    "\n",
    "if class_name == 'cancer' and category == 'test':\n",
    "    class_path = os.path.join('dataset', class_name)\n",
    "    if not os.path.exists(target_dir):\n",
    "        os.mkdir(target_dir)        \n",
    "    full_can_list = os.listdir(os.path.join('dataset', 'cancer'))\n",
    "    train_can_list = os.listdir(os.path.join('train', 'cancer'))\n",
    "    img_list = [x for x in full_can_list if not x in train_can_list]\n",
    "    patient_ids = []\n",
    "    for x in img_list:\n",
    "        p_id = x.split('_')[0]\n",
    "        if not p_id in patient_ids:\n",
    "            patient_ids.append(p_id)\n",
    "    patient_ids = sorted(patient_ids)\n",
    "    \n",
    "    for p_id in patient_ids:\n",
    "        if os.path.exists(os.path.join(target_dir, p_id)):\n",
    "            continue\n",
    "            # shutil.rmtree(os.path.join(target_dir, p_id))\n",
    "        os.mkdir(os.path.join(target_dir, p_id))\n",
    "        for x in img_list:\n",
    "            if x.split('_')[0] == p_id:\n",
    "                shutil.copy(os.path.join(class_path, x), os.path.join(target_dir, p_id, x))\n",
    "else:\n",
    "    class_path = os.path.join(category, class_name)\n",
    "    if not os.path.exists(target_dir):\n",
    "        os.mkdir(target_dir)\n",
    "    img_list = os.listdir(class_path)\n",
    "    patient_ids = []\n",
    "    for x in img_list:\n",
    "        p_id = x.split('_')[0]\n",
    "        if not p_id in patient_ids:\n",
    "            patient_ids.append(p_id)\n",
    "    patient_ids = sorted(patient_ids)\n",
    "\n",
    "    for p_id in patient_ids:\n",
    "        if os.path.exists(os.path.join(target_dir, p_id)):\n",
    "            continue\n",
    "            # shutil.rmtree(os.path.join(target_dir, p_id))\n",
    "        os.mkdir(os.path.join(target_dir, p_id))\n",
    "        for x in img_list:\n",
    "            if x.split('_')[0] == p_id:\n",
    "                shutil.copy(os.path.join(class_path, x), os.path.join(target_dir, p_id, x))"
   ]
  },
  {
   "cell_type": "code",
   "execution_count": 251,
   "metadata": {},
   "outputs": [
    {
     "name": "stdout",
     "output_type": "stream",
     "text": [
      "Found 31 images belonging to 1 classes.\n",
      "Found 35 images belonging to 1 classes.\n",
      "Found 22 images belonging to 1 classes.\n",
      "Found 21 images belonging to 1 classes.\n",
      "Found 22 images belonging to 1 classes.\n",
      "Found 21 images belonging to 1 classes.\n",
      "Found 31 images belonging to 1 classes.\n",
      "Found 20 images belonging to 1 classes.\n",
      "Found 22 images belonging to 1 classes.\n",
      "Found 25 images belonging to 1 classes.\n",
      "Found 18 images belonging to 1 classes.\n",
      "Found 28 images belonging to 1 classes.\n",
      "Found 31 images belonging to 1 classes.\n",
      "Found 30 images belonging to 1 classes.\n",
      "Found 24 images belonging to 1 classes.\n",
      "Found 24 images belonging to 1 classes.\n",
      "Found 22 images belonging to 1 classes.\n",
      "Found 34 images belonging to 1 classes.\n",
      "Found 29 images belonging to 1 classes.\n",
      "Found 15 images belonging to 1 classes.\n",
      "Found 24 images belonging to 1 classes.\n",
      "Found 30 images belonging to 1 classes.\n",
      "Found 28 images belonging to 1 classes.\n",
      "Found 25 images belonging to 1 classes.\n",
      "Found 27 images belonging to 1 classes.\n",
      "Found 26 images belonging to 1 classes.\n",
      "Found 31 images belonging to 1 classes.\n",
      "Found 40 images belonging to 1 classes.\n",
      "Found 28 images belonging to 1 classes.\n",
      "Found 30 images belonging to 1 classes.\n",
      "Found 30 images belonging to 1 classes.\n",
      "Found 36 images belonging to 1 classes.\n",
      "Found 32 images belonging to 1 classes.\n",
      "Found 33 images belonging to 1 classes.\n",
      "Found 8 images belonging to 1 classes.\n",
      "Found 23 images belonging to 1 classes.\n",
      "Found 26 images belonging to 1 classes.\n",
      "Found 23 images belonging to 1 classes.\n",
      "Found 26 images belonging to 1 classes.\n",
      "Found 26 images belonging to 1 classes.\n",
      "Found 30 images belonging to 1 classes.\n",
      "Found 28 images belonging to 1 classes.\n",
      "Found 34 images belonging to 1 classes.\n",
      "Found 21 images belonging to 1 classes.\n",
      "Found 42 images belonging to 1 classes.\n",
      "Found 28 images belonging to 1 classes.\n",
      "Found 27 images belonging to 1 classes.\n",
      "Found 32 images belonging to 1 classes.\n",
      "Found 27 images belonging to 1 classes.\n",
      "Found 24 images belonging to 1 classes.\n",
      "Found 25 images belonging to 1 classes.\n",
      "Found 23 images belonging to 1 classes.\n",
      "Found 23 images belonging to 1 classes.\n",
      "Found 14 images belonging to 1 classes.\n",
      "Found 12 images belonging to 1 classes.\n",
      "Found 28 images belonging to 1 classes.\n",
      "Found 31 images belonging to 1 classes.\n",
      "Found 13 images belonging to 1 classes.\n",
      "Found 25 images belonging to 1 classes.\n",
      "Found 27 images belonging to 1 classes.\n",
      "Found 30 images belonging to 1 classes.\n",
      "Found 24 images belonging to 1 classes.\n",
      "Found 28 images belonging to 1 classes.\n",
      "Found 11 images belonging to 1 classes.\n",
      "Found 30 images belonging to 1 classes.\n",
      "Found 26 images belonging to 1 classes.\n",
      "Found 19 images belonging to 1 classes.\n",
      "Found 32 images belonging to 1 classes.\n",
      "correct: 32 / 68\n"
     ]
    }
   ],
   "source": [
    "from tqdm import tqdm\n",
    "\n",
    "correct = 0\n",
    "f = open('dist_{}_{}.csv'.format(category, class_name), 'w')\n",
    "ff = open('{}_{}_pred_distribution.lst'.format(class_name, category), 'w')\n",
    "#f.write('category, class, id, samples, can_pred, fib_pred\\n')\n",
    "f.write('category, class, id, avg_dist_to_can, avg_dist_to_fib, result\\n')\n",
    "\n",
    "for p_id in patient_ids:\n",
    "    if not os.path.exists(os.path.join(target_dir, p_id)):\n",
    "        continue    \n",
    "    pgen = test_data_generator.flow_from_directory(target_dir,\n",
    "                                                   target_size=(160, 160), \n",
    "                                                   classes=[p_id],\n",
    "                                                   batch_size=len(os.listdir(os.path.join(target_dir, p_id))), \n",
    "                                                   shuffle=False)\n",
    "    pred = model.predict_generator(generator=pgen, steps=1)\n",
    "    \n",
    "    dist_to_can = np.sum(pred)\n",
    "    dist_to_fib = np.sum(1 - pred)\n",
    "    \n",
    "    result = False\n",
    "    if dist_to_can < dist_to_fib and class_name == 'cancer':\n",
    "        correct += 1\n",
    "        result = True\n",
    "    if dist_to_can >= dist_to_fib and class_name == 'fibro':\n",
    "        correct += 1\n",
    "        result = True\n",
    "    \n",
    "    f.write('{}, {}, {}, {:.4f}, {:.4f}, {}\\n'.format(category, \n",
    "                                                      class_name, \n",
    "                                                      p_id,                                            \n",
    "                                                      dist_to_can / pred.shape[0], \n",
    "                                                      dist_to_fib / pred.shape[0],\n",
    "                                                      result))\n",
    "    \n",
    "    for dd in pred:\n",
    "        ff.write('{}, '.format(dd[0]))\n",
    "    \n",
    "    \"\"\"\n",
    "    can = np.zeros(pred.shape)\n",
    "    fib = np.zeros(pred.shape)\n",
    "    can[pred <= 0.5] = 1\n",
    "    fib[pred > 0.5] = 1\n",
    "    can_pred = np.count_nonzero(can)\n",
    "    fib_pred = np.count_nonzero(fib)\n",
    "    \n",
    "    if can_pred > fib_pred and class_name == 'cancer':\n",
    "        correct += 1\n",
    "    if can_pred <= fib_pred and class_name == 'fibro':\n",
    "        correct += 1    \n",
    "    \n",
    "    f.write('{}, {}, {}, {}, {}, {},\\n'.format(category, \n",
    "                                               class_name, \n",
    "                                               p_id, \n",
    "                                               pred.shape[0],\n",
    "                                               can_pred,\n",
    "                                               fib_pred))\n",
    "    \"\"\"\n",
    "\n",
    "f.write('correct: {} / {}\\n'.format(correct, len(patient_ids)))\n",
    "ff.close()\n",
    "f.close()\n",
    "print('correct:', correct, '/', len(patient_ids))"
   ]
  },
  {
   "cell_type": "code",
   "execution_count": 18,
   "metadata": {},
   "outputs": [
    {
     "name": "stdout",
     "output_type": "stream",
     "text": [
      "Populating the interactive namespace from numpy and matplotlib\n"
     ]
    }
   ],
   "source": [
    "import matplotlib.pyplot as plt\n",
    "import seaborn as sns\n",
    "%pylab inline"
   ]
  },
  {
   "cell_type": "code",
   "execution_count": 23,
   "metadata": {},
   "outputs": [
    {
     "data": {
      "text/plain": [
       "<matplotlib.axes._subplots.AxesSubplot at 0x7fdfeb91f198>"
      ]
     },
     "execution_count": 23,
     "metadata": {},
     "output_type": "execute_result"
    },
    {
     "data": {
      "text/plain": [
       "<matplotlib.figure.Figure at 0x7fdfeb806b70>"
      ]
     },
     "metadata": {},
     "output_type": "display_data"
    },
    {
     "data": {
      "image/png": "[encoded data removed]",
      "text/plain": [
       "<matplotlib.figure.Figure at 0x7fdfe9bd4128>"
      ]
     },
     "metadata": {},
     "output_type": "display_data"
    },
    {
     "data": {
      "image/png": "[encoded data removed]",
      "text/plain": [
       "<matplotlib.figure.Figure at 0x7fdfe7504278>"
      ]
     },
     "metadata": {},
     "output_type": "display_data"
    }
   ],
   "source": [
    "with open('cancer_test_pred_distribution.lst') as o:\n",
    "    can_values = [float(x.split(',')[0]) for x in o.read().split()]\n",
    "can_values = np.array(can_values)\n",
    "\n",
    "with open('fibro_test_pred_distribution.lst') as o:\n",
    "    fib_values = [float(x.split(',')[0]) for x in o.read().split()]\n",
    "fib_values = np.array(fib_values)\n",
    "    \n",
    "figure(figsize=(12, 10))\n",
    "\n",
    "fig1 = plt.figure(figsize=(12, 10))\n",
    "#plt.title('Cancer (training set)', size=24)\n",
    "sns.distplot(can_values, rug=True, kde=True)\n",
    "\n",
    "fig2 = plt.figure(figsize=(12, 10))\n",
    "#plt.title('Fibroadenomatis (training set)', size=24)\n",
    "sns.distplot(fib_values, rug=True, kde=True)"
   ]
  },
  {
   "cell_type": "code",
   "execution_count": 253,
   "metadata": {},
   "outputs": [
    {
     "data": {
      "text/plain": [
       "<matplotlib.axes._subplots.AxesSubplot at 0x7f99b724cc50>"
      ]
     },
     "execution_count": 253,
     "metadata": {},
     "output_type": "execute_result"
    },
    {
     "data": {
      "image/png": "[encoded data removed]",
      "text/plain": [
       "<matplotlib.figure.Figure at 0x7f99b5f05e10>"
      ]
     },
     "metadata": {},
     "output_type": "display_data"
    }
   ],
   "source": [
    "figure(figsize=(18, 6))\n",
    "plt.subplot(1, 2, 1)\n",
    "plt.title('Cancer (testing set)', size=14)\n",
    "sns.distplot(can_values, rug=True, kde=True, bins=15)\n",
    "\n",
    "plt.subplot(1, 2, 2)\n",
    "plt.title('Fibroadenomatis (testing set)', size=14)\n",
    "sns.distplot(fib_values, rug=True, kde=True, bins=15)"
   ]
  },
  {
   "cell_type": "code",
   "execution_count": null,
   "metadata": {
    "collapsed": true
   },
   "outputs": [],
   "source": []
  }
 ],
 "metadata": {
  "kernelspec": {
   "display_name": "Python 3",
   "language": "python",
   "name": "python3"
  },
  "language_info": {
   "codemirror_mode": {
    "name": "ipython",
    "version": 3
   },
   "file_extension": ".py",
   "mimetype": "text/x-python",
   "name": "python",
   "nbconvert_exporter": "python",
   "pygments_lexer": "ipython3",
   "version": "3.5.3"
  }
 },
 "nbformat": 4,
 "nbformat_minor": 2
}

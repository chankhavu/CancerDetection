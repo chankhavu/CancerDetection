{
 "cells": [
  {
   "cell_type": "code",
   "execution_count": 19,
   "metadata": {},
   "outputs": [
    {
     "name": "stdout",
     "output_type": "stream",
     "text": [
      "Populating the interactive namespace from numpy and matplotlib\n",
      "Keras backend: tensorflow\n",
      "Keras image format: channels_last \n",
      "\n"
     ]
    }
   ],
   "source": [
    "import os\n",
    "import sys\n",
    "import numpy as np\n",
    "import cv2\n",
    "from keras import backend as KBackend\n",
    "from keras.models import load_model\n",
    "from keras.preprocessing.image import ImageDataGenerator\n",
    "\n",
    "import matplotlib.pyplot as plt\n",
    "import seaborn as sns\n",
    "%pylab inline\n",
    "\n",
    "print('Keras backend:', KBackend.backend())\n",
    "print('Keras image format:', KBackend.image_data_format(), '\\n')"
   ]
  },
  {
   "cell_type": "code",
   "execution_count": 2,
   "metadata": {},
   "outputs": [
    {
     "name": "stdout",
     "output_type": "stream",
     "text": [
      "_________________________________________________________________\n",
      "Layer (type)                 Output Shape              Param #   \n",
      "=================================================================\n",
      "conv2d_268 (Conv2D)          (None, 158, 158, 32)      896       \n",
      "_________________________________________________________________\n",
      "activation_376 (Activation)  (None, 158, 158, 32)      0         \n",
      "_________________________________________________________________\n",
      "max_pooling2d_143 (MaxPoolin (None, 79, 79, 32)        0         \n",
      "_________________________________________________________________\n",
      "conv2d_269 (Conv2D)          (None, 77, 77, 32)        9248      \n",
      "_________________________________________________________________\n",
      "activation_377 (Activation)  (None, 77, 77, 32)        0         \n",
      "_________________________________________________________________\n",
      "max_pooling2d_144 (MaxPoolin (None, 38, 38, 32)        0         \n",
      "_________________________________________________________________\n",
      "conv2d_270 (Conv2D)          (None, 36, 36, 64)        18496     \n",
      "_________________________________________________________________\n",
      "activation_378 (Activation)  (None, 36, 36, 64)        0         \n",
      "_________________________________________________________________\n",
      "max_pooling2d_145 (MaxPoolin (None, 18, 18, 64)        0         \n",
      "_________________________________________________________________\n",
      "flatten_37 (Flatten)         (None, 20736)             0         \n",
      "_________________________________________________________________\n",
      "dense_109 (Dense)            (None, 32)                663584    \n",
      "_________________________________________________________________\n",
      "activation_379 (Activation)  (None, 32)                0         \n",
      "_________________________________________________________________\n",
      "dropout_73 (Dropout)         (None, 32)                0         \n",
      "_________________________________________________________________\n",
      "dense_110 (Dense)            (None, 32)                1056      \n",
      "_________________________________________________________________\n",
      "activation_380 (Activation)  (None, 32)                0         \n",
      "_________________________________________________________________\n",
      "dropout_74 (Dropout)         (None, 32)                0         \n",
      "_________________________________________________________________\n",
      "dense_111 (Dense)            (None, 1)                 33        \n",
      "_________________________________________________________________\n",
      "activation_381 (Activation)  (None, 1)                 0         \n",
      "=================================================================\n",
      "Total params: 693,313\n",
      "Trainable params: 693,313\n",
      "Non-trainable params: 0\n",
      "_________________________________________________________________\n"
     ]
    }
   ],
   "source": [
    "model = load_model('log_cnn/rgb-32C3-32C3-64C5-F32-F321_E69_L0.64_A0.66.hdf5')\n",
    "model.summary()"
   ]
  },
  {
   "cell_type": "code",
   "execution_count": 126,
   "metadata": {},
   "outputs": [
    {
     "name": "stdout",
     "output_type": "stream",
     "text": [
      "test can total: 1771 for 68 patients\n",
      "test fib total: 349 for 33 patients\n"
     ]
    }
   ],
   "source": [
    "test_cancer_dir = 'tmp_test_cancer'\n",
    "test_fibro_dir = 'tmp_test_fibro'\n",
    "\n",
    "cancer_ids = sorted(os.listdir(test_cancer_dir))\n",
    "fibro_ids = sorted(os.listdir(test_fibro_dir))\n",
    "\n",
    "test_cancer_imnum = 0\n",
    "for i in cancer_ids:\n",
    "    test_cancer_imnum += len(os.listdir(os.path.join(test_cancer_dir, str(i))))\n",
    "\n",
    "test_fibro_imnum = 0\n",
    "for i in fibro_ids:\n",
    "    test_fibro_imnum += len(os.listdir(os.path.join(test_fibro_dir, str(i))))\n",
    "\n",
    "print('test can total:', test_cancer_imnum, 'for', len(cancer_ids), 'patients')\n",
    "print('test fib total:', test_fibro_imnum, 'for', len(fibro_ids), 'patients')"
   ]
  },
  {
   "cell_type": "code",
   "execution_count": 122,
   "metadata": {},
   "outputs": [],
   "source": [
    "test_data_generator = ImageDataGenerator()"
   ]
  },
  {
   "cell_type": "code",
   "execution_count": 127,
   "metadata": {},
   "outputs": [],
   "source": [
    "def gen_predictions(cat_dir, p_id, catres_dir):\n",
    "    pgen = test_data_generator.flow_from_directory(os.path.join(cat_dir),\n",
    "                                                   target_size=(160, 160),\n",
    "                                                   classes=[p_id],\n",
    "                                                   batch_size=len(os.listdir(os.path.join(cat_dir, p_id))),\n",
    "                                                   shuffle=False)\n",
    "    \n",
    "    pred = model.predict_generator(generator=pgen, steps=1)\n",
    "    \n",
    "    f = open(os.path.join(catres_dir, p_id + '.lst'), 'w')\n",
    "    for i in pred:\n",
    "        f.write('{}, '.format(i[0]))\n",
    "    f.close()"
   ]
  },
  {
   "cell_type": "code",
   "execution_count": 88,
   "metadata": {},
   "outputs": [
    {
     "name": "stdout",
     "output_type": "stream",
     "text": [
      "Found 51 images belonging to 1 classes.\n",
      "Found 72 images belonging to 1 classes.\n",
      "Found 47 images belonging to 1 classes.\n",
      "Found 37 images belonging to 1 classes.\n",
      "Found 42 images belonging to 1 classes.\n",
      "Found 46 images belonging to 1 classes.\n",
      "Found 51 images belonging to 1 classes.\n",
      "Found 34 images belonging to 1 classes.\n",
      "Found 38 images belonging to 1 classes.\n",
      "Found 47 images belonging to 1 classes.\n",
      "Found 52 images belonging to 1 classes.\n",
      "Found 50 images belonging to 1 classes.\n",
      "Found 52 images belonging to 1 classes.\n",
      "Found 51 images belonging to 1 classes.\n",
      "Found 50 images belonging to 1 classes.\n",
      "Found 44 images belonging to 1 classes.\n",
      "Found 50 images belonging to 1 classes.\n",
      "Found 61 images belonging to 1 classes.\n",
      "Found 61 images belonging to 1 classes.\n",
      "Found 36 images belonging to 1 classes.\n",
      "Found 47 images belonging to 1 classes.\n",
      "Found 48 images belonging to 1 classes.\n",
      "Found 53 images belonging to 1 classes.\n",
      "Found 56 images belonging to 1 classes.\n",
      "Found 55 images belonging to 1 classes.\n",
      "Found 57 images belonging to 1 classes.\n",
      "Found 58 images belonging to 1 classes.\n",
      "Found 65 images belonging to 1 classes.\n",
      "Found 57 images belonging to 1 classes.\n",
      "Found 59 images belonging to 1 classes.\n",
      "Found 60 images belonging to 1 classes.\n",
      "Found 64 images belonging to 1 classes.\n",
      "Found 66 images belonging to 1 classes.\n",
      "Found 55 images belonging to 1 classes.\n",
      "Found 27 images belonging to 1 classes.\n",
      "Found 44 images belonging to 1 classes.\n",
      "Found 50 images belonging to 1 classes.\n",
      "Found 48 images belonging to 1 classes.\n",
      "Found 49 images belonging to 1 classes.\n",
      "Found 50 images belonging to 1 classes.\n",
      "Found 58 images belonging to 1 classes.\n",
      "Found 55 images belonging to 1 classes.\n",
      "Found 53 images belonging to 1 classes.\n",
      "Found 45 images belonging to 1 classes.\n",
      "Found 81 images belonging to 1 classes.\n",
      "Found 57 images belonging to 1 classes.\n",
      "Found 50 images belonging to 1 classes.\n",
      "Found 52 images belonging to 1 classes.\n",
      "Found 58 images belonging to 1 classes.\n",
      "Found 55 images belonging to 1 classes.\n",
      "Found 49 images belonging to 1 classes.\n",
      "Found 47 images belonging to 1 classes.\n",
      "Found 50 images belonging to 1 classes.\n",
      "Found 24 images belonging to 1 classes.\n",
      "Found 35 images belonging to 1 classes.\n",
      "Found 53 images belonging to 1 classes.\n",
      "Found 44 images belonging to 1 classes.\n",
      "Found 28 images belonging to 1 classes.\n",
      "Found 54 images belonging to 1 classes.\n",
      "Found 45 images belonging to 1 classes.\n",
      "Found 54 images belonging to 1 classes.\n",
      "Found 40 images belonging to 1 classes.\n",
      "Found 47 images belonging to 1 classes.\n",
      "Found 27 images belonging to 1 classes.\n",
      "Found 50 images belonging to 1 classes.\n",
      "Found 50 images belonging to 1 classes.\n",
      "Found 43 images belonging to 1 classes.\n",
      "Found 59 images belonging to 1 classes.\n",
      "Found 57 images belonging to 1 classes.\n",
      "Found 50 images belonging to 1 classes.\n",
      "Found 61 images belonging to 1 classes.\n",
      "Found 45 images belonging to 1 classes.\n",
      "Found 49 images belonging to 1 classes.\n",
      "Found 55 images belonging to 1 classes.\n",
      "Found 38 images belonging to 1 classes.\n",
      "Found 57 images belonging to 1 classes.\n",
      "Found 51 images belonging to 1 classes.\n",
      "Found 54 images belonging to 1 classes.\n",
      "Found 50 images belonging to 1 classes.\n",
      "Found 47 images belonging to 1 classes.\n",
      "Found 46 images belonging to 1 classes.\n",
      "Found 45 images belonging to 1 classes.\n",
      "Found 58 images belonging to 1 classes.\n",
      "Found 58 images belonging to 1 classes.\n",
      "Found 54 images belonging to 1 classes.\n",
      "Found 52 images belonging to 1 classes.\n",
      "Found 53 images belonging to 1 classes.\n",
      "Found 50 images belonging to 1 classes.\n",
      "Found 55 images belonging to 1 classes.\n",
      "Found 54 images belonging to 1 classes.\n",
      "Found 50 images belonging to 1 classes.\n",
      "Found 39 images belonging to 1 classes.\n",
      "Found 49 images belonging to 1 classes.\n",
      "Found 52 images belonging to 1 classes.\n",
      "Found 48 images belonging to 1 classes.\n",
      "Found 50 images belonging to 1 classes.\n",
      "Found 50 images belonging to 1 classes.\n",
      "Found 56 images belonging to 1 classes.\n",
      "Found 80 images belonging to 1 classes.\n",
      "Found 61 images belonging to 1 classes.\n",
      "Found 67 images belonging to 1 classes.\n"
     ]
    }
   ],
   "source": [
    "for pid in cancer_ids:\n",
    "    gen_predictions(test_cancer_dir, pid, os.path.join('stat_test_cancer', 'values'))\n",
    "    \n",
    "for pid in fibro_ids:\n",
    "    gen_predictions(test_fibro_dir, pid, os.path.join('stat_test_fibro', 'values'))"
   ]
  },
  {
   "cell_type": "code",
   "execution_count": 124,
   "metadata": {},
   "outputs": [
    {
     "name": "stdout",
     "output_type": "stream",
     "text": [
      "(1632,) (1392,)\n"
     ]
    }
   ],
   "source": [
    "with open('statistics/cancer_train_pred_distribution.lst') as o:\n",
    "    can_values = [float(x.split(',')[0]) for x in o.read().split()]\n",
    "can_values = np.array(can_values)\n",
    "\n",
    "with open('statistics/fibro_train_pred_distribution.lst') as o:\n",
    "    fib_values = [float(x.split(',')[0]) for x in o.read().split()]\n",
    "fib_values = np.array(fib_values)\n",
    "\n",
    "print(can_values.shape, fib_values.shape)"
   ]
  },
  {
   "cell_type": "code",
   "execution_count": 33,
   "metadata": {},
   "outputs": [
    {
     "data": {
      "text/plain": [
       "<matplotlib.figure.Figure at 0x7f50201e9860>"
      ]
     },
     "metadata": {},
     "output_type": "display_data"
    }
   ],
   "source": [
    "figure(figsize=(8, 6))\n",
    "\n",
    "fig1 = plt.figure()\n",
    "sns_plot1 = sns.distplot(can_values, rug=True, kde=True)\n",
    "plt.savefig('stat_test_cancer/train_pred_distribution.png')\n",
    "plt.close(fig1)\n",
    "\n",
    "fig2 = plt.figure()\n",
    "sns_plot2 = sns.distplot(fib_values, rug=True, kde=True)\n",
    "plt.savefig('stat_test_fibro/train_pred_distribution.png')\n",
    "plt.close(fig2)"
   ]
  },
  {
   "cell_type": "code",
   "execution_count": 89,
   "metadata": {},
   "outputs": [],
   "source": [
    "for pid in cancer_ids:\n",
    "    with open('stat_test_cancer/values/{}.lst'.format(pid)) as o:\n",
    "        pval = [float(x.split(',')[0]) for x in o.read().split()]\n",
    "    pval = np.array(pval)\n",
    "    \n",
    "    fig = plt.figure()\n",
    "    sns_plot = sns.distplot(pval, rug=True, kde=True)\n",
    "    sns_plot.figure.savefig('stat_test_cancer/plots/{}.png'.format(pid))\n",
    "    plt.close(fig)\n",
    "    \n",
    "for pid in fibro_ids:\n",
    "    with open('stat_test_fibro/values/{}.lst'.format(pid)) as o:\n",
    "        pval = [float(x.split(',')[0]) for x in o.read().split()]\n",
    "    pval = np.array(pval)\n",
    "    \n",
    "    fig = plt.figure()\n",
    "    sns_plot = sns.distplot(pval, rug=True, kde=True)\n",
    "    sns_plot.figure.savefig('stat_test_fibro/plots/{}.png'.format(pid))\n",
    "    plt.close(fig)"
   ]
  },
  {
   "cell_type": "code",
   "execution_count": 135,
   "metadata": {},
   "outputs": [],
   "source": [
    "from scipy.stats import ks_2samp\n",
    "\n",
    "def kolmogorov_pred(val_path, canvals, fibvals):\n",
    "    with open(val_path) as o:\n",
    "        pvals = [float(x.split(',')[0]) for x in o.read().split()]\n",
    "    pvals = np.array(pvals)\n",
    "        \n",
    "    \n",
    "    s_can = ks_2samp(canvals, pvals)\n",
    "    s_fib = ks_2samp(fibvals, pvals)\n",
    "    \n",
    "    d_can, p_can = s_can[0], s_can[1]\n",
    "    d_fib, p_fib = s_fib[0], s_fib[1]\n",
    "    \n",
    "    answer = None # 0 = cancer, 1 = fibro\n",
    "    \n",
    "    \n",
    "    if abs(p_can - p_fib) < 0.01:\n",
    "        if d_can < d_fib:\n",
    "            answer = 0\n",
    "        else:\n",
    "            answer = 1\n",
    "    else:\n",
    "        if p_can > p_fib:\n",
    "            answer = 0\n",
    "        else:\n",
    "            answer = 1    \n",
    "    \n",
    "    return s_can, s_fib, answer\n",
    "\n",
    "def mean_pred(val_path, canvals, fibvals):\n",
    "    with open(val_path) as o:\n",
    "        pvals = [float(x.split(',')[0]) for x in o.read().split()]\n",
    "    pvals = np.array(pvals)\n",
    "    \n",
    "    can = np.zeros(pvals.shape)\n",
    "    fib = np.zeros(pvals.shape)\n",
    "    \n",
    "    can[pvals <= 0.5] = 1\n",
    "    fib[pvals >  0.5] = 1\n",
    "    \n",
    "    can_pred = np.count_nonzero(can)\n",
    "    fib_pred = np.count_nonzero(fib)\n",
    "    \n",
    "    if can_pred > fib_pred:\n",
    "        return 0\n",
    "    else:\n",
    "        return 1"
   ]
  },
  {
   "cell_type": "code",
   "execution_count": 136,
   "metadata": {},
   "outputs": [
    {
     "name": "stdout",
     "output_type": "stream",
     "text": [
      "ks can correct: 48 / 68\n",
      "ks fib correct: 21 / 33\n",
      "m can correct: 40 / 68\n",
      "m fib correct: 23 / 33\n"
     ]
    }
   ],
   "source": [
    "ac, bc = [], []\n",
    "fc = open('ks_cancer.csv', 'w')\n",
    "fc.write('pid, dcan, pcan, dfib, pfib, prediction,\\n')\n",
    "for pid in cancer_ids:\n",
    "    c, f, a = kolmogorov_pred(os.path.join('stat_test_cancer', 'values', '{}.lst'.format(pid)),\n",
    "                              can_values, fib_values)\n",
    "    b = mean_pred(os.path.join('stat_test_cancer', 'values', '{}.lst'.format(pid)),\n",
    "                  can_values, fib_values)\n",
    "    fc.write('{}, {:.6f}, {:.6f}, {:.6f}, {:.6f}, {}, {}\\n'.format(pid, c[0], c[1], f[0], f[1], a, b))\n",
    "    ac.append(a)\n",
    "    bc.append(b)\n",
    "nom = len(ac) - sum(ac)\n",
    "den = len(ac)\n",
    "fc.write('ks can correct: {}/{} ({:.1f}%)'.format(nom, den, float(nom)/float(den) * 100.))\n",
    "fc.close()\n",
    "\n",
    "af, bf = [], []\n",
    "ff = open('ks_fibro.csv', 'w')\n",
    "ff.write('pid, dcan, pcan, dfib, pfib, prediction,\\n')\n",
    "for pid in fibro_ids:\n",
    "    c, f, a = kolmogorov_pred(os.path.join('stat_test_fibro', 'values', '{}.lst'.format(pid)),\n",
    "                              can_values, fib_values)\n",
    "    b = mean_pred(os.path.join('stat_test_fibro', 'values', '{}.lst'.format(pid)),\n",
    "                  can_values, fib_values)\n",
    "    ff.write('{}, {:.6f}, {:.6f}, {:.6f}, {:.6f}, {}, {}\\n'.format(pid, c[0], c[1], f[0], f[1], a, b))\n",
    "    af.append(a)\n",
    "    bf.append(b)\n",
    "nom = sum(af)\n",
    "den = len(af)\n",
    "ff.write('ks fib correct: {}/{} ({:.1f}%)'.format(nom, den, float(nom)/float(den) * 100.))\n",
    "ff.close()\n",
    "\n",
    "print('ks can correct:', len(ac) - sum(ac), '/', len(ac))\n",
    "print('ks fib correct:', sum(af), '/', len(af))\n",
    "\n",
    "print('m can correct:', len(bc) - sum(bc), '/', len(bc))\n",
    "print('m fib correct:', sum(bf), '/', len(bf))"
   ]
  },
  {
   "cell_type": "code",
   "execution_count": 84,
   "metadata": {},
   "outputs": [
    {
     "data": {
      "text/plain": [
       "Ks_2sampResult(statistic=0.25798681541582147, pvalue=3.0021127124198237e-44)"
      ]
     },
     "execution_count": 84,
     "metadata": {},
     "output_type": "execute_result"
    }
   ],
   "source": [
    "ks_2samp(can_values, fib_values)"
   ]
  },
  {
   "cell_type": "code",
   "execution_count": 96,
   "metadata": {},
   "outputs": [
    {
     "name": "stdout",
     "output_type": "stream",
     "text": [
      "(1632,) (1392,)\n",
      "0.357087939978 0.352834403515\n"
     ]
    }
   ],
   "source": [
    "print(can_values.shape, fib_values.shape)\n",
    "print(np.min(can_values), np.min(fib_values))"
   ]
  },
  {
   "cell_type": "code",
   "execution_count": 140,
   "metadata": {},
   "outputs": [],
   "source": [
    "from keras.preprocessing.image import ImageDataGenerator, array_to_img, img_to_array, load_img\n",
    "\n",
    "datagen = ImageDataGenerator(horizontal_flip=True, \n",
    "                             vertical_flip=True, \n",
    "                             rotation_range=90,\n",
    "                             fill_mode='nearest')\n",
    "\n",
    "img = load_img('dataset/cancer/404_2_1.png')  # this is a PIL image\n",
    "#img = cv2.imread()\n",
    "x = img_to_array(img)  # this is a Numpy array with shape (3, 160, 160)\n",
    "x = x.reshape((1,) + x.shape)  # this is a Numpy array with shape (1, 3, 160, 160)\n",
    "\n",
    "# the .flow() command below generates batches of randomly transformed images\n",
    "# and saves the results to the `preview/` directory\n",
    "i = 0\n",
    "for batch in datagen.flow(x, batch_size=1,\n",
    "                          save_to_dir='figures', save_prefix='aug', save_format='png'):\n",
    "    i += 1\n",
    "    if i > 20:\n",
    "        break  # otherwise the generator would loop indefinitely"
   ]
  },
  {
   "cell_type": "code",
   "execution_count": null,
   "metadata": {
    "collapsed": true
   },
   "outputs": [],
   "source": []
  }
 ],
 "metadata": {
  "kernelspec": {
   "display_name": "Python 3",
   "language": "python",
   "name": "python3"
  },
  "language_info": {
   "codemirror_mode": {
    "name": "ipython",
    "version": 3
   },
   "file_extension": ".py",
   "mimetype": "text/x-python",
   "name": "python",
   "nbconvert_exporter": "python",
   "pygments_lexer": "ipython3",
   "version": "3.5.3"
  }
 },
 "nbformat": 4,
 "nbformat_minor": 2
}
